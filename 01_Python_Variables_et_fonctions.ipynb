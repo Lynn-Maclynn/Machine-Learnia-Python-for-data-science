{
 "cells": [
  {
   "cell_type": "markdown",
   "id": "aedc2bca",
   "metadata": {},
   "source": [
    "## LES OPERATEURS"
   ]
  },
  {
   "cell_type": "code",
   "execution_count": 42,
   "id": "7f2c687c",
   "metadata": {},
   "outputs": [
    {
     "name": "stdout",
     "output_type": "stream",
     "text": [
      "1\n"
     ]
    }
   ],
   "source": [
    "x = 1\n",
    "print(x)"
   ]
  },
  {
   "cell_type": "code",
   "execution_count": 5,
   "id": "7b34a020",
   "metadata": {},
   "outputs": [
    {
     "name": "stdout",
     "output_type": "stream",
     "text": [
      "3\n"
     ]
    }
   ],
   "source": [
    "x+=1\n",
    "print(x)"
   ]
  },
  {
   "cell_type": "markdown",
   "id": "9d3c6e3d",
   "metadata": {},
   "source": [
    "- **Opérateurs arithmétiques**"
   ]
  },
  {
   "cell_type": "code",
   "execution_count": 7,
   "id": "cfa7679c",
   "metadata": {},
   "outputs": [
    {
     "name": "stdout",
     "output_type": "stream",
     "text": [
      "7\n",
      "-3\n",
      "10\n",
      "0.4\n",
      "0\n",
      "32\n"
     ]
    }
   ],
   "source": [
    "x = 2\n",
    "y = 5\n",
    "\n",
    "print(x + y)\n",
    "print(x - y)\n",
    "print(x * y)\n",
    "print(x / y)\n",
    "print(x // y) #division entière\n",
    "print(x ** y)"
   ]
  },
  {
   "cell_type": "markdown",
   "id": "2fd9e09e",
   "metadata": {},
   "source": [
    "- **Opérateurs de comparaisons**"
   ]
  },
  {
   "cell_type": "code",
   "execution_count": 10,
   "id": "aa37f2cd",
   "metadata": {},
   "outputs": [
    {
     "name": "stdout",
     "output_type": "stream",
     "text": [
      "True\n",
      "False\n",
      "False\n",
      "True\n"
     ]
    }
   ],
   "source": [
    "print(x <= y)\n",
    "print(x >= y)\n",
    "print(x == y)\n",
    "print(x != y)"
   ]
  },
  {
   "cell_type": "code",
   "execution_count": 11,
   "id": "5f2ea927",
   "metadata": {},
   "outputs": [
    {
     "data": {
      "text/plain": [
       "bool"
      ]
     },
     "execution_count": 11,
     "metadata": {},
     "output_type": "execute_result"
    }
   ],
   "source": [
    "a = True\n",
    "\n",
    "type(a)"
   ]
  },
  {
   "cell_type": "markdown",
   "id": "b3130abe",
   "metadata": {},
   "source": [
    "- **Opérateurs logiques**"
   ]
  },
  {
   "cell_type": "code",
   "execution_count": 12,
   "id": "19cbf8cb",
   "metadata": {},
   "outputs": [
    {
     "name": "stdout",
     "output_type": "stream",
     "text": [
      "False\n",
      "True\n",
      "True\n"
     ]
    }
   ],
   "source": [
    "print(False & True) # AND\n",
    "print(False | True) # OR\n",
    "print(False ^ True) # XOR"
   ]
  },
  {
   "cell_type": "markdown",
   "id": "25e06706",
   "metadata": {},
   "source": [
    "- **String**"
   ]
  },
  {
   "cell_type": "code",
   "execution_count": 13,
   "id": "ca087ecc",
   "metadata": {},
   "outputs": [
    {
     "name": "stdout",
     "output_type": "stream",
     "text": [
      "Lynn\n"
     ]
    }
   ],
   "source": [
    "prenom = \"Lynn\"\n",
    "print(prenom)"
   ]
  },
  {
   "cell_type": "markdown",
   "id": "bb02b79a",
   "metadata": {},
   "source": [
    "## LES FONCTIONS"
   ]
  },
  {
   "cell_type": "markdown",
   "id": "12b99a69",
   "metadata": {},
   "source": [
    "- **lambda**"
   ]
  },
  {
   "cell_type": "code",
   "execution_count": 15,
   "id": "086f6b92",
   "metadata": {},
   "outputs": [
    {
     "name": "stdout",
     "output_type": "stream",
     "text": [
      "4\n",
      "16\n",
      "0.1111111111111111\n"
     ]
    }
   ],
   "source": [
    "f  = lambda x: x**2\n",
    "\n",
    "print(f(2))\n",
    "print(f(-4))\n",
    "print(f(1/3))"
   ]
  },
  {
   "cell_type": "code",
   "execution_count": 16,
   "id": "e2bb6a1d",
   "metadata": {},
   "outputs": [
    {
     "name": "stdout",
     "output_type": "stream",
     "text": [
      "4.5\n",
      "20.0\n",
      "2.111111111111111\n"
     ]
    }
   ],
   "source": [
    "f  = lambda x,y: x**2 + y/2\n",
    "\n",
    "print(f(2,1))\n",
    "print(f(-4,8))\n",
    "print(f(1/3,4))"
   ]
  },
  {
   "cell_type": "markdown",
   "id": "f3d9dd8c",
   "metadata": {},
   "source": [
    "- **fonction definie par *def* .**"
   ]
  },
  {
   "cell_type": "code",
   "execution_count": 22,
   "id": "dcc3f1a9",
   "metadata": {},
   "outputs": [
    {
     "name": "stdout",
     "output_type": "stream",
     "text": [
      "Le poids est de : 5.0 newtons\n"
     ]
    }
   ],
   "source": [
    "def poids(masse, g):\n",
    "    p = masse*g\n",
    "    print('Le poids est de :', p, 'newtons')\n",
    "    \n",
    "poids(0.5, 10)"
   ]
  },
  {
   "cell_type": "code",
   "execution_count": 25,
   "id": "60b33b3c",
   "metadata": {},
   "outputs": [
    {
     "name": "stdout",
     "output_type": "stream",
     "text": [
      "Le poids est de : 5.0 newtons\n"
     ]
    }
   ],
   "source": [
    "def poids(masse, g):\n",
    "    p = masse*g\n",
    "    print('Le poids est de :', p, 'newtons')\n",
    "    return p\n",
    "    \n",
    "p = poids(0.5, 10)"
   ]
  },
  {
   "cell_type": "markdown",
   "id": "2eb14bdb",
   "metadata": {},
   "source": [
    "**Méthode recommandée**"
   ]
  },
  {
   "cell_type": "code",
   "execution_count": 26,
   "id": "2b0d2a48",
   "metadata": {},
   "outputs": [
    {
     "name": "stdout",
     "output_type": "stream",
     "text": [
      "Le poids est de : 5.0 newtons\n"
     ]
    }
   ],
   "source": [
    "def poids(masse, g):\n",
    "    p = masse*g\n",
    "    print('Le poids est de :', p, 'newtons')\n",
    "    return p\n",
    "    \n",
    "p = poids(masse = 0.5, g = 10) # c'est recommandé de préciser \n",
    "                                # le nom des keywords"
   ]
  },
  {
   "cell_type": "code",
   "execution_count": 45,
   "id": "2c3d7c8f",
   "metadata": {},
   "outputs": [
    {
     "name": "stdout",
     "output_type": "stream",
     "text": [
      "Le poids est de 4.905N\n"
     ]
    }
   ],
   "source": [
    "def poids(masse, g = 9.81):  # g est une constante\n",
    "    p = masse*g\n",
    "    print('Le poids est de '+ str(p) + 'N')\n",
    "    return p\n",
    "    \n",
    "p = poids(masse = 0.5)  # plus besoin de le déclarer ici"
   ]
  },
  {
   "cell_type": "markdown",
   "id": "d757cb92",
   "metadata": {},
   "source": [
    "## EXERCICE\n",
    "\n",
    "Reprendre la fonction donnée et comparer la valeur de l'énergie potentielle retournée à un nouveau paramètre qui est l'énergie limite"
   ]
  },
  {
   "cell_type": "code",
   "execution_count": 47,
   "id": "94990651",
   "metadata": {},
   "outputs": [
    {
     "name": "stdout",
     "output_type": "stream",
     "text": [
      "7357.5 joules\n",
      "Valeur inferieure à :  1000 joules\n",
      "7357.5 joules\n",
      "Valeur inferieure à :  1000 joules\n"
     ]
    }
   ],
   "source": [
    "def e_potentielle(masse, hauteur, e_limite=1000, g = 9.81):\n",
    "    E = masse*hauteur*g\n",
    "    if E>e_limite :\n",
    "        print(E, 'joules')\n",
    "    else:\n",
    "        print(\"Valeur inferieure à : \", e_limite, 'joules')\n",
    "\n",
    "e_potentielle(masse = 50, hauteur = 15)\n",
    "e_potentielle(masse = 0.5, hauteur = 15)\n",
    "e_potentielle(50, 15)\n",
    "e_potentielle(0.5, 15)"
   ]
  },
  {
   "cell_type": "markdown",
   "id": "a97ab242",
   "metadata": {},
   "source": [
    "**CORRECTION**"
   ]
  },
  {
   "cell_type": "code",
   "execution_count": 41,
   "id": "2d692d7b",
   "metadata": {},
   "outputs": [
    {
     "name": "stdout",
     "output_type": "stream",
     "text": [
      "False\n",
      "True\n"
     ]
    }
   ],
   "source": [
    "def e_potentielle(masse, hauteur, e_limite=1000, g = 9.81):\n",
    "    E = masse*hauteur*g\n",
    "    return E<e_limite\n",
    "\n",
    "\n",
    "print(e_potentielle(masse = 50, hauteur = 15))\n",
    "print(e_potentielle(masse = 0.5, hauteur = 15))"
   ]
  },
  {
   "cell_type": "code",
   "execution_count": null,
   "id": "a8e81f84",
   "metadata": {},
   "outputs": [],
   "source": []
  }
 ],
 "metadata": {
  "kernelspec": {
   "display_name": "Python 3 (ipykernel)",
   "language": "python",
   "name": "python3"
  },
  "language_info": {
   "codemirror_mode": {
    "name": "ipython",
    "version": 3
   },
   "file_extension": ".py",
   "mimetype": "text/x-python",
   "name": "python",
   "nbconvert_exporter": "python",
   "pygments_lexer": "ipython3",
   "version": "3.11.5"
  }
 },
 "nbformat": 4,
 "nbformat_minor": 5
}
