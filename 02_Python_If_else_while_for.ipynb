{
 "cells": [
  {
   "cell_type": "markdown",
   "id": "6bf856f5",
   "metadata": {},
   "source": [
    "- **tests**"
   ]
  },
  {
   "cell_type": "code",
   "execution_count": 1,
   "id": "21a0955e",
   "metadata": {},
   "outputs": [
    {
     "name": "stdout",
     "output_type": "stream",
     "text": [
      "10 est positif\n"
     ]
    }
   ],
   "source": [
    "x = 10\n",
    "\n",
    "if x>0:\n",
    "    print(x, \"est positif\")\n",
    "elif x==0:\n",
    "    print(x, \"est nul\")\n",
    "else:\n",
    "    print(x, \"est négatif\")"
   ]
  },
  {
   "cell_type": "code",
   "execution_count": 2,
   "id": "89f100d5",
   "metadata": {},
   "outputs": [
    {
     "data": {
      "text/plain": [
       "True"
      ]
     },
     "execution_count": 2,
     "metadata": {},
     "output_type": "execute_result"
    }
   ],
   "source": [
    "x>0"
   ]
  },
  {
   "cell_type": "code",
   "execution_count": 3,
   "id": "6c5fc0b3",
   "metadata": {},
   "outputs": [
    {
     "data": {
      "text/plain": [
       "False"
      ]
     },
     "execution_count": 3,
     "metadata": {},
     "output_type": "execute_result"
    }
   ],
   "source": [
    "x==0"
   ]
  },
  {
   "cell_type": "code",
   "execution_count": 4,
   "id": "e11b71cf",
   "metadata": {},
   "outputs": [
    {
     "name": "stdout",
     "output_type": "stream",
     "text": [
      "10 est positif\n"
     ]
    }
   ],
   "source": [
    "x = 10\n",
    "\n",
    "if True:\n",
    "    print(x, \"est positif\")\n",
    "elif x==0:\n",
    "    print(x, \"est nul\")\n",
    "else:\n",
    "    print(x, \"est négatif\")"
   ]
  },
  {
   "cell_type": "code",
   "execution_count": 5,
   "id": "193305f3",
   "metadata": {},
   "outputs": [
    {
     "name": "stdout",
     "output_type": "stream",
     "text": [
      "10 22 sont positif\n"
     ]
    }
   ],
   "source": [
    "x = 10\n",
    "y = 22\n",
    "if (x>0) & (y>x):\n",
    "    print(x,y, \"sont positif\")\n",
    "elif x==0:\n",
    "    print(x, \"est nul\")\n",
    "else:\n",
    "    print(x, \"est négatif\")"
   ]
  },
  {
   "cell_type": "code",
   "execution_count": 9,
   "id": "080f76c3",
   "metadata": {},
   "outputs": [],
   "source": [
    "def signe(x):\n",
    "    if x>0:\n",
    "        print(x, \"est positif\")\n",
    "    elif x==0:\n",
    "        print(x, \"est nul\")\n",
    "    else:\n",
    "        print(x, \"est négatif\")"
   ]
  },
  {
   "cell_type": "code",
   "execution_count": 10,
   "id": "932e5981",
   "metadata": {},
   "outputs": [
    {
     "name": "stdout",
     "output_type": "stream",
     "text": [
      "-5 est négatif\n"
     ]
    }
   ],
   "source": [
    "signe(-5)"
   ]
  },
  {
   "cell_type": "markdown",
   "id": "4e609c4c",
   "metadata": {},
   "source": [
    "- **for**"
   ]
  },
  {
   "cell_type": "code",
   "execution_count": 13,
   "id": "e08255c1",
   "metadata": {},
   "outputs": [
    {
     "name": "stdout",
     "output_type": "stream",
     "text": [
      "4\n",
      "7\n",
      "10\n",
      "13\n"
     ]
    }
   ],
   "source": [
    "first_element, last_elemement, pas = 4, 15, 3\n",
    "\n",
    "for i in range(first_element, last_elemement, pas):\n",
    "    print(i)"
   ]
  },
  {
   "cell_type": "code",
   "execution_count": 15,
   "id": "81a55806",
   "metadata": {},
   "outputs": [
    {
     "name": "stdout",
     "output_type": "stream",
     "text": [
      "4 est positif\n",
      "7 est positif\n",
      "10 est positif\n",
      "13 est positif\n"
     ]
    }
   ],
   "source": [
    "for element in range(first_element, last_elemement, pas):\n",
    "    signe(element)"
   ]
  },
  {
   "cell_type": "code",
   "execution_count": 16,
   "id": "cb3c9dbf",
   "metadata": {},
   "outputs": [
    {
     "name": "stdout",
     "output_type": "stream",
     "text": [
      "bonjour\n",
      "bonjour\n",
      "bonjour\n",
      "bonjour\n",
      "bonjour\n"
     ]
    }
   ],
   "source": [
    "for _ in range(5):\n",
    "    print(\"bonjour\")"
   ]
  },
  {
   "cell_type": "code",
   "execution_count": 26,
   "id": "cdc5205c",
   "metadata": {},
   "outputs": [
    {
     "name": "stdout",
     "output_type": "stream",
     "text": [
      "15\n",
      "12\n",
      "9\n",
      "6\n"
     ]
    }
   ],
   "source": [
    "first_element, last_elemement, pas = 15, 4, -3\n",
    "for i in range(first_element, last_elemement, pas):#Faire attention à commencer par le dernier chiffre\n",
    "    print(i)"
   ]
  },
  {
   "cell_type": "markdown",
   "id": "5675b8f6",
   "metadata": {},
   "source": [
    "- **while**"
   ]
  },
  {
   "cell_type": "code",
   "execution_count": 17,
   "id": "18980bfe",
   "metadata": {},
   "outputs": [
    {
     "name": "stdout",
     "output_type": "stream",
     "text": [
      "0\n",
      "1\n",
      "2\n",
      "3\n",
      "4\n",
      "5\n",
      "6\n",
      "7\n",
      "8\n",
      "9\n"
     ]
    }
   ],
   "source": [
    "x = 0\n",
    "\n",
    "while x<10:\n",
    "    print(x)\n",
    "    x+=1"
   ]
  },
  {
   "cell_type": "markdown",
   "id": "ffa0440c",
   "metadata": {},
   "source": [
    "## EXERCICE\n",
    "\n",
    "Ecrire un code qui donne les nombres de la suite de fibonacci jusqu'à un certain niveau n"
   ]
  },
  {
   "cell_type": "code",
   "execution_count": 20,
   "id": "b56db0ac",
   "metadata": {},
   "outputs": [
    {
     "name": "stdout",
     "output_type": "stream",
     "text": [
      "0\n",
      "1\n",
      "1\n",
      "2\n",
      "3\n",
      "5\n",
      "8\n",
      "13\n",
      "21\n",
      "34\n",
      "55\n",
      "89\n"
     ]
    }
   ],
   "source": [
    "def fibonacci(n):\n",
    "    a,b = 0,1\n",
    "    while a<n:\n",
    "        print(a)\n",
    "        a,b = b, a+b\n",
    "        \n",
    "fibonacci(100)"
   ]
  },
  {
   "cell_type": "code",
   "execution_count": null,
   "id": "99944beb",
   "metadata": {},
   "outputs": [],
   "source": []
  }
 ],
 "metadata": {
  "kernelspec": {
   "display_name": "Python 3 (ipykernel)",
   "language": "python",
   "name": "python3"
  },
  "language_info": {
   "codemirror_mode": {
    "name": "ipython",
    "version": 3
   },
   "file_extension": ".py",
   "mimetype": "text/x-python",
   "name": "python",
   "nbconvert_exporter": "python",
   "pygments_lexer": "ipython3",
   "version": "3.11.5"
  }
 },
 "nbformat": 4,
 "nbformat_minor": 5
}
