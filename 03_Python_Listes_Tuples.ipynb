{
 "cells": [
  {
   "cell_type": "markdown",
   "id": "f3b3f772",
   "metadata": {},
   "source": [
    "## LES STRUCTURES DE DONNEES"
   ]
  },
  {
   "cell_type": "markdown",
   "id": "34d4a320",
   "metadata": {},
   "source": [
    "- **LISTES**"
   ]
  },
  {
   "cell_type": "code",
   "execution_count": 1,
   "id": "9b412e18",
   "metadata": {},
   "outputs": [],
   "source": [
    "liste_1 = [1, 52, 7, 18, -1, 0, 23]\n",
    "villes = [\"Yaounde\", \"Dschang\", \"Bafoussam\", \"Buea\", \"Garoua\", \"Bertoua\"]\n",
    "liste_2 = [liste_1, villes]\n",
    "liste_3 = []"
   ]
  },
  {
   "cell_type": "code",
   "execution_count": 2,
   "id": "56b47b07",
   "metadata": {},
   "outputs": [
    {
     "name": "stdout",
     "output_type": "stream",
     "text": [
      "[1, 52, 7, 18, -1, 0, 23]\n",
      "['Yaounde', 'Dschang', 'Bafoussam', 'Buea', 'Garoua', 'Bertoua']\n",
      "[[1, 52, 7, 18, -1, 0, 23], ['Yaounde', 'Dschang', 'Bafoussam', 'Buea', 'Garoua', 'Bertoua']]\n",
      "[]\n"
     ]
    }
   ],
   "source": [
    "print(liste_1)\n",
    "print(villes)\n",
    "print(liste_2)\n",
    "print(liste_3)"
   ]
  },
  {
   "cell_type": "markdown",
   "id": "0c080b79",
   "metadata": {},
   "source": [
    "**Différentes méthodes sur les listes**"
   ]
  },
  {
   "cell_type": "code",
   "execution_count": 3,
   "id": "989971a8",
   "metadata": {},
   "outputs": [
    {
     "name": "stdout",
     "output_type": "stream",
     "text": [
      "['Yaounde', 'Dschang', 'Bafoussam', 'Buea', 'Garoua', 'Bertoua']\n",
      "['Yaounde', 'Dschang', 'Bafoussam', 'Buea', 'Garoua', 'Bertoua', 'Maroua']\n"
     ]
    }
   ],
   "source": [
    "print(villes)\n",
    "villes.append('Maroua')\n",
    "print(villes)"
   ]
  },
  {
   "cell_type": "code",
   "execution_count": 4,
   "id": "289eb190",
   "metadata": {},
   "outputs": [
    {
     "name": "stdout",
     "output_type": "stream",
     "text": [
      "['Yaounde', 'Dschang', 'Bafoussam', 'Buea', 'Garoua', 'Bertoua', 'Maroua']\n",
      "['Yaounde', 'Dschang', 'Ebolowa', 'Bafoussam', 'Buea', 'Garoua', 'Bertoua', 'Maroua']\n"
     ]
    }
   ],
   "source": [
    "print(villes)\n",
    "villes.insert(2,'Ebolowa')\n",
    "print(villes)"
   ]
  },
  {
   "cell_type": "code",
   "execution_count": 5,
   "id": "a4298933",
   "metadata": {},
   "outputs": [
    {
     "name": "stdout",
     "output_type": "stream",
     "text": [
      "['Yaounde', 'Dschang', 'Ebolowa', 'Bafoussam', 'Buea', 'Garoua', 'Bertoua', 'Maroua']\n",
      "['Yaounde', 'Dschang', 'Ebolowa', 'Bafoussam', 'Buea', 'Garoua', 'Bertoua', 'Maroua']\n"
     ]
    }
   ],
   "source": [
    "print(villes)\n",
    "\n",
    "#ajouter une liste\n",
    "villes_2 = [\"Nkongsamba\", \"Melon\", \"Mbalmayo\"]\n",
    "print(villes)"
   ]
  },
  {
   "cell_type": "code",
   "execution_count": 6,
   "id": "25029023",
   "metadata": {},
   "outputs": [
    {
     "name": "stdout",
     "output_type": "stream",
     "text": [
      "['Yaounde', 'Dschang', 'Ebolowa', 'Bafoussam', 'Buea', 'Garoua', 'Bertoua', 'Maroua']\n",
      "['Yaounde', 'Dschang', 'Ebolowa', 'Bafoussam', 'Buea', 'Garoua', 'Bertoua', 'Maroua', 'Nkongsamba', 'Melon', 'Mbalmayo']\n"
     ]
    }
   ],
   "source": [
    "#ajouter une liste\n",
    "print(villes)\n",
    "\n",
    "villes.extend(villes_2)\n",
    "print(villes)"
   ]
  },
  {
   "cell_type": "code",
   "execution_count": 7,
   "id": "a0334ebf",
   "metadata": {},
   "outputs": [
    {
     "name": "stdout",
     "output_type": "stream",
     "text": [
      "le nombre d'élément de la liste est  11\n"
     ]
    }
   ],
   "source": [
    "#taille d'une liste\n",
    "print(\"le nombre d'élément de la liste est \", len(villes))"
   ]
  },
  {
   "cell_type": "code",
   "execution_count": 8,
   "id": "0ec29738",
   "metadata": {},
   "outputs": [
    {
     "name": "stdout",
     "output_type": "stream",
     "text": [
      "['Bafoussam', 'Bertoua', 'Buea', 'Dschang', 'Ebolowa', 'Garoua', 'Maroua', 'Mbalmayo', 'Melon', 'Nkongsamba', 'Yaounde']\n",
      "[1, 52, 7, 18, -1, 0, 23]\n",
      "[-1, 0, 1, 7, 18, 23, 52]\n"
     ]
    }
   ],
   "source": [
    "#ranger par ordre alphabétique\n",
    "villes.sort()\n",
    "print(villes)\n",
    "print(liste_1)\n",
    "liste_1.sort()\n",
    "print(liste_1)"
   ]
  },
  {
   "cell_type": "code",
   "execution_count": 16,
   "id": "3f3b468b",
   "metadata": {},
   "outputs": [
    {
     "data": {
      "text/plain": [
       "1"
      ]
     },
     "execution_count": 16,
     "metadata": {},
     "output_type": "execute_result"
    }
   ],
   "source": [
    "#compter le nombre d'occurrences d'une valeur dans une listes\n",
    "villes.count('Buea')"
   ]
  },
  {
   "cell_type": "markdown",
   "id": "a42cd752",
   "metadata": {},
   "source": [
    "**LISTES ET BOUCLES**"
   ]
  },
  {
   "cell_type": "code",
   "execution_count": 17,
   "id": "fad9f2df",
   "metadata": {},
   "outputs": [
    {
     "name": "stdout",
     "output_type": "stream",
     "text": [
      "Oui\n"
     ]
    }
   ],
   "source": [
    "if 'Bertoua' in villes:\n",
    "    print('Oui')\n",
    "else:\n",
    "    print('Non')"
   ]
  },
  {
   "cell_type": "code",
   "execution_count": 18,
   "id": "2b90425c",
   "metadata": {},
   "outputs": [
    {
     "name": "stdout",
     "output_type": "stream",
     "text": [
      "Bamenda\n",
      "Bertoua\n",
      "Buea\n",
      "Dschang\n",
      "Ebolowa\n",
      "Garoua\n",
      "Maroua\n",
      "Mbalmayo\n",
      "Melon\n",
      "Nkongsamba\n",
      "Yaounde\n"
     ]
    }
   ],
   "source": [
    "#extraire les éléments d'une liste\n",
    "\n",
    "for i in villes:\n",
    "    print(i)"
   ]
  },
  {
   "cell_type": "code",
   "execution_count": 19,
   "id": "17a2db55",
   "metadata": {},
   "outputs": [
    {
     "name": "stdout",
     "output_type": "stream",
     "text": [
      "0 Bamenda\n",
      "1 Bertoua\n",
      "2 Buea\n",
      "3 Dschang\n",
      "4 Ebolowa\n",
      "5 Garoua\n",
      "6 Maroua\n",
      "7 Mbalmayo\n",
      "8 Melon\n",
      "9 Nkongsamba\n",
      "10 Yaounde\n"
     ]
    }
   ],
   "source": [
    "#extraire les éléments d'une liste avec leur index\n",
    "\n",
    "for index, element in enumerate(villes):\n",
    "    print(index, element)"
   ]
  },
  {
   "cell_type": "code",
   "execution_count": 20,
   "id": "4fcb28dc",
   "metadata": {},
   "outputs": [
    {
     "name": "stdout",
     "output_type": "stream",
     "text": [
      "Bamenda -1\n",
      "Bertoua 0\n",
      "Buea 1\n",
      "Dschang 7\n",
      "Ebolowa 18\n",
      "Garoua 23\n",
      "Maroua 52\n"
     ]
    }
   ],
   "source": [
    "# accéder aux éléments de deux listes\n",
    "\n",
    "for a,b in zip(villes, liste_1):\n",
    "    print(a,b)"
   ]
  },
  {
   "cell_type": "markdown",
   "id": "c2ea61ce",
   "metadata": {},
   "source": [
    "- **TUPLES**"
   ]
  },
  {
   "cell_type": "code",
   "execution_count": 9,
   "id": "3e0e9403",
   "metadata": {},
   "outputs": [
    {
     "name": "stdout",
     "output_type": "stream",
     "text": [
      "(1, 2, 6, 1, 7)\n"
     ]
    }
   ],
   "source": [
    "tuple_1 = (1, 2, 6, 1, 7)\n",
    "print(tuple_1)"
   ]
  },
  {
   "cell_type": "markdown",
   "id": "87f612f9",
   "metadata": {},
   "source": [
    "- **Strings**"
   ]
  },
  {
   "cell_type": "code",
   "execution_count": 10,
   "id": "502f61fd",
   "metadata": {},
   "outputs": [
    {
     "name": "stdout",
     "output_type": "stream",
     "text": [
      "Cynthia\n"
     ]
    }
   ],
   "source": [
    "prenom = \"Cynthia\"\n",
    "print(prenom)"
   ]
  },
  {
   "cell_type": "markdown",
   "id": "121792f0",
   "metadata": {},
   "source": [
    "## SLICING METHOD"
   ]
  },
  {
   "cell_type": "code",
   "execution_count": 11,
   "id": "55da44e6",
   "metadata": {},
   "outputs": [
    {
     "name": "stdout",
     "output_type": "stream",
     "text": [
      "['Bafoussam', 'Bertoua', 'Buea']\n"
     ]
    }
   ],
   "source": [
    "print(villes[:3])"
   ]
  },
  {
   "cell_type": "code",
   "execution_count": 12,
   "id": "f4df3db7",
   "metadata": {},
   "outputs": [
    {
     "name": "stdout",
     "output_type": "stream",
     "text": [
      "['Bertoua', 'Buea', 'Dschang', 'Ebolowa', 'Garoua', 'Maroua', 'Mbalmayo', 'Melon', 'Nkongsamba', 'Yaounde']\n"
     ]
    }
   ],
   "source": [
    "print(villes[1:])"
   ]
  },
  {
   "cell_type": "code",
   "execution_count": 13,
   "id": "5fe03fee",
   "metadata": {},
   "outputs": [
    {
     "name": "stdout",
     "output_type": "stream",
     "text": [
      "['Bafoussam', 'Buea', 'Ebolowa', 'Maroua', 'Melon', 'Yaounde']\n"
     ]
    }
   ],
   "source": [
    "print(villes[::2])"
   ]
  },
  {
   "cell_type": "code",
   "execution_count": 14,
   "id": "ec4fab86",
   "metadata": {},
   "outputs": [
    {
     "name": "stdout",
     "output_type": "stream",
     "text": [
      "Cyn\n"
     ]
    }
   ],
   "source": [
    "print(prenom[:3])"
   ]
  },
  {
   "cell_type": "markdown",
   "id": "aec97429",
   "metadata": {},
   "source": [
    "Changement d'une valeur d'une séquence de données"
   ]
  },
  {
   "cell_type": "code",
   "execution_count": 15,
   "id": "0e5ce95f",
   "metadata": {},
   "outputs": [
    {
     "name": "stdout",
     "output_type": "stream",
     "text": [
      "['Bafoussam', 'Bertoua', 'Buea', 'Dschang', 'Ebolowa', 'Garoua', 'Maroua', 'Mbalmayo', 'Melon', 'Nkongsamba', 'Yaounde']\n",
      "['Bamenda', 'Bertoua', 'Buea', 'Dschang', 'Ebolowa', 'Garoua', 'Maroua', 'Mbalmayo', 'Melon', 'Nkongsamba', 'Yaounde']\n"
     ]
    }
   ],
   "source": [
    "print(villes)\n",
    "villes[0] = \"Bamenda\"\n",
    "print(villes)"
   ]
  },
  {
   "cell_type": "markdown",
   "id": "983a790b",
   "metadata": {},
   "source": [
    "## EXERCICE\n",
    "\n",
    "Ecrire la fonction de Fibonacci qui retourne les valeurs de la suite dans une liste"
   ]
  },
  {
   "cell_type": "code",
   "execution_count": 21,
   "id": "6adffcfe",
   "metadata": {},
   "outputs": [
    {
     "data": {
      "text/plain": [
       "[0, 1, 1, 2, 3, 5, 8, 13, 21, 34, 55, 89]"
      ]
     },
     "execution_count": 21,
     "metadata": {},
     "output_type": "execute_result"
    }
   ],
   "source": [
    "def fibonacci(n):\n",
    "    a,b = 0,1\n",
    "    suite = []\n",
    "    while a<n:\n",
    "        suite.append(a)\n",
    "        a,b = b, a+b\n",
    "    return suite\n",
    "        \n",
    "fibonacci(100)"
   ]
  },
  {
   "cell_type": "markdown",
   "id": "3bb7ae2b",
   "metadata": {},
   "source": [
    "**CORRECTION**"
   ]
  },
  {
   "cell_type": "code",
   "execution_count": 23,
   "id": "0bebd33b",
   "metadata": {},
   "outputs": [
    {
     "data": {
      "text/plain": [
       "[0, 1, 1, 2, 3, 5, 8, 13, 21, 34, 55, 89]"
      ]
     },
     "execution_count": 23,
     "metadata": {},
     "output_type": "execute_result"
    }
   ],
   "source": [
    "def fibonacci(n):\n",
    "    a,b = 0,1\n",
    "    suite = [a]\n",
    "    while b<n:\n",
    "        a,b = b, a+b\n",
    "        suite.append(a)\n",
    "    return suite\n",
    "        \n",
    "fibonacci(100)"
   ]
  },
  {
   "cell_type": "code",
   "execution_count": null,
   "id": "9040bed1",
   "metadata": {},
   "outputs": [],
   "source": []
  }
 ],
 "metadata": {
  "kernelspec": {
   "display_name": "Python 3 (ipykernel)",
   "language": "python",
   "name": "python3"
  },
  "language_info": {
   "codemirror_mode": {
    "name": "ipython",
    "version": 3
   },
   "file_extension": ".py",
   "mimetype": "text/x-python",
   "name": "python",
   "nbconvert_exporter": "python",
   "pygments_lexer": "ipython3",
   "version": "3.11.5"
  }
 },
 "nbformat": 4,
 "nbformat_minor": 5
}
