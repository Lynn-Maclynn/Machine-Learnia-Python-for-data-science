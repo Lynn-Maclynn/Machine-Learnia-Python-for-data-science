{
 "cells": [
  {
   "cell_type": "code",
   "execution_count": 1,
   "id": "438611ad",
   "metadata": {},
   "outputs": [
    {
     "name": "stdout",
     "output_type": "stream",
     "text": [
      "{'chien': 'dog', 'chat': 'cat', 'chaise': 'chair', 'ordinateur': 'computer'}\n"
     ]
    }
   ],
   "source": [
    "traduction = {\n",
    "    \"chien\": \"dog\",\n",
    "    \"chat\": \"cat\",\n",
    "    \"chaise\": \"chair\",\n",
    "    \"ordinateur\": \"computer\"\n",
    "    }\n",
    "\n",
    "fruits = {\n",
    "    \"bananes\": 500,\n",
    "    \"oranges\": 250,\n",
    "    \"citron\": 1000\n",
    "    }\n",
    "\n",
    "dictionnaire = {\n",
    "    \"key_1\": traduction,\n",
    "    \"key_2\": fruits\n",
    "}\n",
    "\n",
    "print(traduction)"
   ]
  },
  {
   "cell_type": "code",
   "execution_count": 2,
   "id": "b7e23e82",
   "metadata": {},
   "outputs": [
    {
     "name": "stdout",
     "output_type": "stream",
     "text": [
      "{'bananes': 500, 'oranges': 250, 'citron': 1000}\n"
     ]
    }
   ],
   "source": [
    "print(fruits)"
   ]
  },
  {
   "cell_type": "code",
   "execution_count": 3,
   "id": "b7911ed9",
   "metadata": {},
   "outputs": [
    {
     "name": "stdout",
     "output_type": "stream",
     "text": [
      "{'key_1': {'chien': 'dog', 'chat': 'cat', 'chaise': 'chair', 'ordinateur': 'computer'}, 'key_2': {'bananes': 500, 'oranges': 250, 'citron': 1000}}\n"
     ]
    }
   ],
   "source": [
    "print(dictionnaire)"
   ]
  },
  {
   "cell_type": "code",
   "execution_count": 4,
   "id": "4b4051d4",
   "metadata": {},
   "outputs": [
    {
     "data": {
      "text/plain": [
       "dict_values([500, 250, 1000])"
      ]
     },
     "execution_count": 4,
     "metadata": {},
     "output_type": "execute_result"
    }
   ],
   "source": [
    "# imprimer les valeurs d'un dictionnaire\n",
    "\n",
    "fruits.values()"
   ]
  },
  {
   "cell_type": "code",
   "execution_count": 5,
   "id": "607fa652",
   "metadata": {},
   "outputs": [
    {
     "data": {
      "text/plain": [
       "dict_values([{'chien': 'dog', 'chat': 'cat', 'chaise': 'chair', 'ordinateur': 'computer'}, {'bananes': 500, 'oranges': 250, 'citron': 1000}])"
      ]
     },
     "execution_count": 5,
     "metadata": {},
     "output_type": "execute_result"
    }
   ],
   "source": [
    "dictionnaire.values()"
   ]
  },
  {
   "cell_type": "code",
   "execution_count": 6,
   "id": "d6db75e7",
   "metadata": {},
   "outputs": [
    {
     "data": {
      "text/plain": [
       "dict_keys(['bananes', 'oranges', 'citron'])"
      ]
     },
     "execution_count": 6,
     "metadata": {},
     "output_type": "execute_result"
    }
   ],
   "source": [
    "# imprimer les clés d'un dictionnaire\n",
    "\n",
    "fruits.keys()"
   ]
  },
  {
   "cell_type": "code",
   "execution_count": 7,
   "id": "1854c290",
   "metadata": {},
   "outputs": [
    {
     "data": {
      "text/plain": [
       "3"
      ]
     },
     "execution_count": 7,
     "metadata": {},
     "output_type": "execute_result"
    }
   ],
   "source": [
    "len(fruits)"
   ]
  },
  {
   "cell_type": "code",
   "execution_count": 8,
   "id": "6f847c6a",
   "metadata": {},
   "outputs": [
    {
     "name": "stdout",
     "output_type": "stream",
     "text": [
      "{'bananes': 500, 'oranges': 250, 'citron': 1000, 'ananas': 54}\n"
     ]
    }
   ],
   "source": [
    "# Ajouter une association dans le dictionnaire\n",
    "\n",
    "fruits[\"ananas\"] = 54\n",
    "\n",
    "print(fruits)"
   ]
  },
  {
   "cell_type": "code",
   "execution_count": 10,
   "id": "3267c530",
   "metadata": {},
   "outputs": [
    {
     "data": {
      "text/plain": [
       "1000"
      ]
     },
     "execution_count": 10,
     "metadata": {},
     "output_type": "execute_result"
    }
   ],
   "source": [
    "# Récupérer la valeur d'une clé\n",
    "\n",
    "fruits[\"citron\"]"
   ]
  },
  {
   "cell_type": "code",
   "execution_count": 11,
   "id": "c618c38f",
   "metadata": {},
   "outputs": [
    {
     "ename": "KeyError",
     "evalue": "'mangues'",
     "output_type": "error",
     "traceback": [
      "\u001b[1;31m---------------------------------------------------------------------------\u001b[0m",
      "\u001b[1;31mKeyError\u001b[0m                                  Traceback (most recent call last)",
      "Cell \u001b[1;32mIn[11], line 1\u001b[0m\n\u001b[1;32m----> 1\u001b[0m fruits[\u001b[38;5;124m\"\u001b[39m\u001b[38;5;124mmangues\u001b[39m\u001b[38;5;124m\"\u001b[39m]\n",
      "\u001b[1;31mKeyError\u001b[0m: 'mangues'"
     ]
    }
   ],
   "source": [
    "fruits[\"mangues\"]"
   ]
  },
  {
   "cell_type": "code",
   "execution_count": 14,
   "id": "0b525f55",
   "metadata": {},
   "outputs": [
    {
     "data": {
      "text/plain": [
       "1000"
      ]
     },
     "execution_count": 14,
     "metadata": {},
     "output_type": "execute_result"
    }
   ],
   "source": [
    "# Méthode recommandée pour récupérer la valeur d'une clé\n",
    "\n",
    "fruits.get(\"citron\",1)"
   ]
  },
  {
   "cell_type": "code",
   "execution_count": 15,
   "id": "c79bfdb5",
   "metadata": {},
   "outputs": [
    {
     "data": {
      "text/plain": [
       "1"
      ]
     },
     "execution_count": 15,
     "metadata": {},
     "output_type": "execute_result"
    }
   ],
   "source": [
    "fruits.get(\"mangues\",1) # 1 est la valeur par défaut retournée si la clé\n",
    "                        # n'existe pas"
   ]
  },
  {
   "cell_type": "code",
   "execution_count": 17,
   "id": "71d8c4a3",
   "metadata": {},
   "outputs": [
    {
     "data": {
      "text/plain": [
       "{'Yaounde': 0,\n",
       " 'Dschang': 0,\n",
       " 'Bafoussam': 0,\n",
       " 'Buea': 0,\n",
       " 'Garoua': 0,\n",
       " 'Bertoua': 0}"
      ]
     },
     "execution_count": 17,
     "metadata": {},
     "output_type": "execute_result"
    }
   ],
   "source": [
    "# Création d'un dictionnaire à partir d'une liste\n",
    "population = {}\n",
    "villes = [\"Yaounde\", \"Dschang\", \"Bafoussam\", \"Buea\", \"Garoua\", \"Bertoua\"]\n",
    "\n",
    "population.fromkeys(villes, 0)"
   ]
  },
  {
   "cell_type": "markdown",
   "id": "dad4ecbd",
   "metadata": {},
   "source": [
    "**Utilisation de la boucle for dans les dictionnaires**"
   ]
  },
  {
   "cell_type": "code",
   "execution_count": 18,
   "id": "dc979232",
   "metadata": {},
   "outputs": [
    {
     "name": "stdout",
     "output_type": "stream",
     "text": [
      "bananes 500\n",
      "oranges 250\n",
      "citron 1000\n",
      "ananas 54\n"
     ]
    }
   ],
   "source": [
    "for k, v in fruits.items():\n",
    "    print(k,v)"
   ]
  },
  {
   "cell_type": "markdown",
   "id": "f3722532",
   "metadata": {},
   "source": [
    "## EXERCICE\n",
    "\n",
    "Créer une fonction trier qui prend en argument le dictionnaire classeur qui contient deux associations de listes (clé positif et clé négatif). Cette fonction doit ranger un deuxième argument nombre dans ce dictionnaire en fonction de son signe et retourner le classeur"
   ]
  },
  {
   "cell_type": "code",
   "execution_count": 61,
   "id": "89396450",
   "metadata": {},
   "outputs": [
    {
     "data": {
      "text/plain": [
       "{'positif': [5, 8, 0], 'négatif': [-1, -0.5]}"
      ]
     },
     "execution_count": 61,
     "metadata": {},
     "output_type": "execute_result"
    }
   ],
   "source": [
    "def trier(classeur, nombre):\n",
    "    liste1 = list(classeur.values())\n",
    "    if nombre>=0:\n",
    "        liste1[0].append(nombre)\n",
    "    else:\n",
    "        liste1[1].append(nombre)\n",
    "    return classeur\n",
    "\n",
    "classeur = {\n",
    "    \"positif\": [],\n",
    "    \"négatif\": []\n",
    "    }\n",
    "\n",
    "trier(classeur, 5)\n",
    "trier(classeur, -1)\n",
    "trier(classeur, 8)\n",
    "trier(classeur, 0)\n",
    "trier(classeur, -1/2)"
   ]
  },
  {
   "cell_type": "markdown",
   "id": "00de2cab",
   "metadata": {},
   "source": [
    "**CORRECTION**"
   ]
  },
  {
   "cell_type": "code",
   "execution_count": 65,
   "id": "9a39796e",
   "metadata": {},
   "outputs": [
    {
     "data": {
      "text/plain": [
       "{'positif': [5, 8, 0], 'négatif': [-1, -0.5]}"
      ]
     },
     "execution_count": 65,
     "metadata": {},
     "output_type": "execute_result"
    }
   ],
   "source": [
    "def trier(classeur, nombre):\n",
    "    if nombre>=0:\n",
    "        classeur['positif'].append(nombre)\n",
    "    else:\n",
    "        classeur['négatif'].append(nombre)\n",
    "    return classeur\n",
    "\n",
    "classeur = {\n",
    "    \"positif\": [],\n",
    "    \"négatif\": []\n",
    "    }\n",
    "\n",
    "trier(classeur, 5)\n",
    "trier(classeur, -1)\n",
    "trier(classeur, 8)\n",
    "trier(classeur, 0)\n",
    "trier(classeur, -1/2)"
   ]
  },
  {
   "cell_type": "code",
   "execution_count": null,
   "id": "be888cb1",
   "metadata": {},
   "outputs": [],
   "source": []
  },
  {
   "cell_type": "code",
   "execution_count": null,
   "id": "071373ad",
   "metadata": {},
   "outputs": [],
   "source": []
  },
  {
   "cell_type": "code",
   "execution_count": null,
   "id": "831635e8",
   "metadata": {},
   "outputs": [],
   "source": []
  },
  {
   "cell_type": "code",
   "execution_count": null,
   "id": "cea061be",
   "metadata": {},
   "outputs": [],
   "source": []
  }
 ],
 "metadata": {
  "kernelspec": {
   "display_name": "Python 3 (ipykernel)",
   "language": "python",
   "name": "python3"
  },
  "language_info": {
   "codemirror_mode": {
    "name": "ipython",
    "version": 3
   },
   "file_extension": ".py",
   "mimetype": "text/x-python",
   "name": "python",
   "nbconvert_exporter": "python",
   "pygments_lexer": "ipython3",
   "version": "3.11.5"
  }
 },
 "nbformat": 4,
 "nbformat_minor": 5
}
