{
 "cells": [
  {
   "cell_type": "markdown",
   "id": "d9ace383",
   "metadata": {},
   "source": [
    "## LIST COMPREHENSION"
   ]
  },
  {
   "cell_type": "code",
   "execution_count": 2,
   "id": "b68cd83c",
   "metadata": {},
   "outputs": [
    {
     "name": "stdout",
     "output_type": "stream",
     "text": [
      "[0, 1, 4, 9, 16, 25, 36, 49, 64, 81]\n"
     ]
    }
   ],
   "source": [
    "liste_1 = [i**2 for i in range(10)]\n",
    "print(liste_1)"
   ]
  },
  {
   "cell_type": "code",
   "execution_count": 7,
   "id": "295ec122",
   "metadata": {},
   "outputs": [
    {
     "name": "stdout",
     "output_type": "stream",
     "text": [
      "1.1753606796264648\n"
     ]
    }
   ],
   "source": [
    "import time\n",
    "\n",
    "start = time.time()\n",
    "\n",
    "liste_1 = [i**2 for i in range(10000000)]\n",
    "\n",
    "end = time.time()\n",
    "\n",
    "print(end-start)"
   ]
  },
  {
   "cell_type": "markdown",
   "id": "f3f88570",
   "metadata": {},
   "source": [
    "**Nexted lists : liste dans une list**"
   ]
  },
  {
   "cell_type": "code",
   "execution_count": 9,
   "id": "f6706a7f",
   "metadata": {},
   "outputs": [
    {
     "name": "stdout",
     "output_type": "stream",
     "text": [
      "[[0, 1, 2], [0, 1, 2]]\n"
     ]
    }
   ],
   "source": [
    "liste_2 = [[i for i in range(3)] for j in range(2)]\n",
    "print(liste_2)"
   ]
  },
  {
   "cell_type": "markdown",
   "id": "ab60b4e8",
   "metadata": {},
   "source": [
    "## DICT COMPREHENSION"
   ]
  },
  {
   "cell_type": "code",
   "execution_count": 12,
   "id": "0b73dafe",
   "metadata": {},
   "outputs": [
    {
     "name": "stdout",
     "output_type": "stream",
     "text": [
      "{'0': 'Magny', '1': 'Anoune', '2': 'Cynthia', '3': 'Lynn'}\n"
     ]
    }
   ],
   "source": [
    "dico = {\n",
    "        '0' : 'Magny',\n",
    "        '1' : 'Anoune',\n",
    "        '2' : 'Cynthia',\n",
    "        '3' : 'Lynn'\n",
    "        }\n",
    "\n",
    "print(dico)"
   ]
  },
  {
   "cell_type": "markdown",
   "id": "42a97007",
   "metadata": {},
   "source": [
    "**recreons ce dictionnaire avec la methode dict_comprehension**"
   ]
  },
  {
   "cell_type": "code",
   "execution_count": 13,
   "id": "69891d5b",
   "metadata": {},
   "outputs": [
    {
     "name": "stdout",
     "output_type": "stream",
     "text": [
      "{0: 'Magny', 1: 'Anoune', 2: 'Cynthia', 3: 'Lynn'}\n"
     ]
    }
   ],
   "source": [
    "prenoms = ['Magny', 'Anoune', 'Cynthia', 'Lynn']\n",
    "\n",
    "dico = {k:v for k,v in enumerate(prenoms)}\n",
    "print(dico)"
   ]
  },
  {
   "cell_type": "code",
   "execution_count": 14,
   "id": "7be69a8a",
   "metadata": {},
   "outputs": [
    {
     "data": {
      "text/plain": [
       "dict_values(['Magny', 'Anoune', 'Cynthia', 'Lynn'])"
      ]
     },
     "execution_count": 14,
     "metadata": {},
     "output_type": "execute_result"
    }
   ],
   "source": [
    "dico.values()"
   ]
  },
  {
   "cell_type": "code",
   "execution_count": 15,
   "id": "92ba4714",
   "metadata": {},
   "outputs": [
    {
     "data": {
      "text/plain": [
       "dict_keys([0, 1, 2, 3])"
      ]
     },
     "execution_count": 15,
     "metadata": {},
     "output_type": "execute_result"
    }
   ],
   "source": [
    "dico.keys()"
   ]
  },
  {
   "cell_type": "markdown",
   "id": "a3ec348e",
   "metadata": {},
   "source": [
    "**creons un dictionnaire avec deux listes**"
   ]
  },
  {
   "cell_type": "code",
   "execution_count": 19,
   "id": "0e59c147",
   "metadata": {},
   "outputs": [
    {
     "name": "stdout",
     "output_type": "stream",
     "text": [
      "{'Magny': 21, 'Anoune': 15, 'Cynthia': 19, 'Lynn': 27}\n"
     ]
    }
   ],
   "source": [
    "prenoms = ['Magny', 'Anoune', 'Cynthia', 'Lynn']\n",
    "ages = [21, 15, 19, 27]\n",
    "\n",
    "dico_1 = {prenom:age for prenom,age in zip(prenoms,ages)}\n",
    "print(dico_1)"
   ]
  },
  {
   "cell_type": "markdown",
   "id": "bdd3926f",
   "metadata": {},
   "source": [
    "**creons un dictionnaire avec condition**"
   ]
  },
  {
   "cell_type": "code",
   "execution_count": 20,
   "id": "4fea6cae",
   "metadata": {},
   "outputs": [
    {
     "name": "stdout",
     "output_type": "stream",
     "text": [
      "{'Magny': 21, 'Cynthia': 19, 'Lynn': 27}\n"
     ]
    }
   ],
   "source": [
    "dico_1 = {prenom:age for prenom,age in zip(prenoms,ages) if age >18} \n",
    "print(dico_1)"
   ]
  },
  {
   "cell_type": "markdown",
   "id": "6fb873fa",
   "metadata": {},
   "source": [
    "## EXERCICE\n",
    "\n",
    "Créer un dictionnaire qui prend pour clé les listes allant de 0 à 20 et pour valeurs leur carré."
   ]
  },
  {
   "cell_type": "code",
   "execution_count": 31,
   "id": "e749eed4",
   "metadata": {},
   "outputs": [
    {
     "data": {
      "text/plain": [
       "{'0': 0,\n",
       " '1': 1,\n",
       " '2': 4,\n",
       " '3': 9,\n",
       " '4': 16,\n",
       " '5': 25,\n",
       " '6': 36,\n",
       " '7': 49,\n",
       " '8': 64,\n",
       " '9': 81,\n",
       " '10': 100,\n",
       " '11': 121,\n",
       " '12': 144,\n",
       " '13': 169,\n",
       " '14': 196,\n",
       " '15': 225,\n",
       " '16': 256,\n",
       " '17': 289,\n",
       " '18': 324,\n",
       " '19': 361,\n",
       " '20': 400}"
      ]
     },
     "execution_count": 31,
     "metadata": {},
     "output_type": "execute_result"
    }
   ],
   "source": [
    "dico = {k:v for k,v in zip([str(i) for i in range(21)],[j**2 for j in range(21)])}\n",
    "dico"
   ]
  },
  {
   "cell_type": "code",
   "execution_count": 32,
   "id": "ff71d295",
   "metadata": {},
   "outputs": [
    {
     "data": {
      "text/plain": [
       "dict_keys(['0', '1', '2', '3', '4', '5', '6', '7', '8', '9', '10', '11', '12', '13', '14', '15', '16', '17', '18', '19', '20'])"
      ]
     },
     "execution_count": 32,
     "metadata": {},
     "output_type": "execute_result"
    }
   ],
   "source": [
    "dico.keys()"
   ]
  },
  {
   "cell_type": "code",
   "execution_count": 33,
   "id": "9369f3f0",
   "metadata": {},
   "outputs": [
    {
     "data": {
      "text/plain": [
       "dict_values([0, 1, 4, 9, 16, 25, 36, 49, 64, 81, 100, 121, 144, 169, 196, 225, 256, 289, 324, 361, 400])"
      ]
     },
     "execution_count": 33,
     "metadata": {},
     "output_type": "execute_result"
    }
   ],
   "source": [
    "dico.values()"
   ]
  },
  {
   "cell_type": "markdown",
   "id": "52638141",
   "metadata": {},
   "source": [
    "**CORRECTION**"
   ]
  },
  {
   "cell_type": "code",
   "execution_count": 34,
   "id": "cf1386d1",
   "metadata": {},
   "outputs": [
    {
     "data": {
      "text/plain": [
       "{'0': 0,\n",
       " '1': 1,\n",
       " '2': 4,\n",
       " '3': 9,\n",
       " '4': 16,\n",
       " '5': 25,\n",
       " '6': 36,\n",
       " '7': 49,\n",
       " '8': 64,\n",
       " '9': 81,\n",
       " '10': 100,\n",
       " '11': 121,\n",
       " '12': 144,\n",
       " '13': 169,\n",
       " '14': 196,\n",
       " '15': 225,\n",
       " '16': 256,\n",
       " '17': 289,\n",
       " '18': 324,\n",
       " '19': 361,\n",
       " '20': 400}"
      ]
     },
     "execution_count": 34,
     "metadata": {},
     "output_type": "execute_result"
    }
   ],
   "source": [
    "dico = {\n",
    "        str(k) : k**2 for k in range (0,21)\n",
    "        }\n",
    "dico"
   ]
  },
  {
   "cell_type": "code",
   "execution_count": null,
   "id": "40653c7b",
   "metadata": {},
   "outputs": [],
   "source": []
  }
 ],
 "metadata": {
  "kernelspec": {
   "display_name": "Python 3 (ipykernel)",
   "language": "python",
   "name": "python3"
  },
  "language_info": {
   "codemirror_mode": {
    "name": "ipython",
    "version": 3
   },
   "file_extension": ".py",
   "mimetype": "text/x-python",
   "name": "python",
   "nbconvert_exporter": "python",
   "pygments_lexer": "ipython3",
   "version": "3.11.5"
  }
 },
 "nbformat": 4,
 "nbformat_minor": 5
}
