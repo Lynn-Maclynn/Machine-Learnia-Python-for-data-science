{
 "cells": [
  {
   "cell_type": "markdown",
   "id": "c9fbbaa6",
   "metadata": {},
   "source": [
    "## BUILT-IN FUNCTIONS de python\n",
    "\n",
    "disponible à l'adresse : **docs.python.org/3/library/function.html**"
   ]
  },
  {
   "cell_type": "markdown",
   "id": "5846853f",
   "metadata": {},
   "source": [
    "**Les plus importantes en datascience, deep learning et machine learning**\n",
    "\n",
    "- *abs()*, *all()*, *input()*\n",
    "- *any()*, *bin()*, *int()*\n",
    "- *dict()*, *float()*, *list()*\n",
    "- *format()*, *hex()*, *open()*\n",
    "- *max()*, *min()*, *oct()*\n",
    "- *round()*, *str()*, *sum()*\n",
    "- *tuple()*, *type()* \n"
   ]
  },
  {
   "cell_type": "code",
   "execution_count": 1,
   "id": "52c0baa4",
   "metadata": {},
   "outputs": [
    {
     "name": "stdout",
     "output_type": "stream",
     "text": [
      "3.14\n",
      "-3\n"
     ]
    }
   ],
   "source": [
    "x = -3.14\n",
    "print(abs(x))\n",
    "print(round(x))"
   ]
  },
  {
   "cell_type": "code",
   "execution_count": 2,
   "id": "44c1ac37",
   "metadata": {},
   "outputs": [
    {
     "name": "stdout",
     "output_type": "stream",
     "text": [
      "22\n"
     ]
    }
   ],
   "source": [
    "liste = [ 4, 8, -5, 6, 9]\n",
    "print(sum(liste))"
   ]
  },
  {
   "cell_type": "code",
   "execution_count": 3,
   "id": "e928f2cb",
   "metadata": {},
   "outputs": [
    {
     "name": "stdout",
     "output_type": "stream",
     "text": [
      "9\n"
     ]
    }
   ],
   "source": [
    "print(max(liste))"
   ]
  },
  {
   "cell_type": "code",
   "execution_count": 4,
   "id": "b9c3b8a4",
   "metadata": {},
   "outputs": [
    {
     "name": "stdout",
     "output_type": "stream",
     "text": [
      "-5\n"
     ]
    }
   ],
   "source": [
    "print(min(liste))"
   ]
  },
  {
   "cell_type": "code",
   "execution_count": 6,
   "id": "e7ec38c9",
   "metadata": {},
   "outputs": [
    {
     "name": "stdout",
     "output_type": "stream",
     "text": [
      "True\n",
      "True\n"
     ]
    }
   ],
   "source": [
    "print(all(liste))\n",
    "print(any(liste))"
   ]
  },
  {
   "cell_type": "markdown",
   "id": "75911c16",
   "metadata": {},
   "source": [
    "**all()** retourne **True** si tous les éléments de la liste sont différents de 0 ou sont égales à True si ce sont des variables de type booléen.\n",
    "\n",
    "**any()** retourne **True** si au moins un élément de la liste est différent 0 ou égale à True"
   ]
  },
  {
   "cell_type": "code",
   "execution_count": 13,
   "id": "15c62e50",
   "metadata": {},
   "outputs": [
    {
     "name": "stdout",
     "output_type": "stream",
     "text": [
      "entrer un nombre 5\n"
     ]
    }
   ],
   "source": [
    "x = input('entrer un nombre ')"
   ]
  },
  {
   "cell_type": "code",
   "execution_count": 14,
   "id": "3817ce4c",
   "metadata": {},
   "outputs": [
    {
     "data": {
      "text/plain": [
       "str"
      ]
     },
     "execution_count": 14,
     "metadata": {},
     "output_type": "execute_result"
    }
   ],
   "source": [
    "type(x)"
   ]
  },
  {
   "cell_type": "code",
   "execution_count": 15,
   "id": "462ad3c3",
   "metadata": {},
   "outputs": [
    {
     "data": {
      "text/plain": [
       "'55'"
      ]
     },
     "execution_count": 15,
     "metadata": {},
     "output_type": "execute_result"
    }
   ],
   "source": [
    "x = x*2\n",
    "x"
   ]
  },
  {
   "cell_type": "code",
   "execution_count": 16,
   "id": "2f776b65",
   "metadata": {},
   "outputs": [
    {
     "name": "stdout",
     "output_type": "stream",
     "text": [
      "entrer un nombre 5\n"
     ]
    },
    {
     "data": {
      "text/plain": [
       "10"
      ]
     },
     "execution_count": 16,
     "metadata": {},
     "output_type": "execute_result"
    }
   ],
   "source": [
    "x = int(input('entrer un nombre '))\n",
    "\n",
    "x = x*2\n",
    "x"
   ]
  },
  {
   "cell_type": "code",
   "execution_count": 17,
   "id": "5ece032d",
   "metadata": {},
   "outputs": [
    {
     "name": "stdout",
     "output_type": "stream",
     "text": [
      "La température est de 25°C à Dschang\n"
     ]
    }
   ],
   "source": [
    "x = 25\n",
    "ville = 'Dschang'\n",
    "message = \"La température est de {}°C à {}\".format(x, ville)\n",
    "print(message)"
   ]
  },
  {
   "cell_type": "code",
   "execution_count": 18,
   "id": "1be73ad8",
   "metadata": {},
   "outputs": [
    {
     "name": "stdout",
     "output_type": "stream",
     "text": [
      "La température est de 25°C à Dschang\n"
     ]
    }
   ],
   "source": [
    "x = 25\n",
    "ville = 'Dschang'\n",
    "message = f'La température est de {x}°C à {ville}'\n",
    "print(message)"
   ]
  },
  {
   "cell_type": "code",
   "execution_count": 21,
   "id": "02795605",
   "metadata": {},
   "outputs": [],
   "source": [
    "file = open('fichier.txt','w')\n",
    "file.write('bonjour')\n",
    "file.close()"
   ]
  },
  {
   "cell_type": "code",
   "execution_count": 22,
   "id": "8ce082db",
   "metadata": {},
   "outputs": [
    {
     "name": "stdout",
     "output_type": "stream",
     "text": [
      "bonjour\n"
     ]
    }
   ],
   "source": [
    "file = open('fichier.txt', 'r')\n",
    "print(file.read())\n",
    "file.close()"
   ]
  },
  {
   "cell_type": "code",
   "execution_count": 45,
   "id": "90e30493",
   "metadata": {},
   "outputs": [],
   "source": [
    "with open(\"fichier.txt\", \"w\") as f:\n",
    "    for i in range(10):\n",
    "        f.write(\"{}^2:{}\\n\".format(i, i**2))"
   ]
  },
  {
   "cell_type": "code",
   "execution_count": 46,
   "id": "7839a1a0",
   "metadata": {},
   "outputs": [],
   "source": [
    "with open('prenom.txt', \"w\") as f:\n",
    "    f.write('Cynthia\\n')\n",
    "    f.write('Lynn\\n')\n",
    "    f.write('Suzie\\n')\n",
    "    f.write('Astrid\\n')"
   ]
  },
  {
   "cell_type": "code",
   "execution_count": 47,
   "id": "16e42950",
   "metadata": {},
   "outputs": [],
   "source": [
    "with open('villes.txt', 'w') as f:\n",
    "    f.write('Dschang\\n')\n",
    "    f.write(\"Bafoussam\\n\")\n",
    "    f.write(\"Yaounde\\n\")\n",
    "    f.write(\"Douala\\n\")"
   ]
  },
  {
   "cell_type": "markdown",
   "id": "5aa83983",
   "metadata": {},
   "source": [
    "## EXERCICE\n",
    "\n",
    "Ecrire une fonction qui va lire le fichier écrit précédemment et insérer toutes les lignes dans une liste"
   ]
  },
  {
   "cell_type": "code",
   "execution_count": 48,
   "id": "ce10a969",
   "metadata": {},
   "outputs": [
    {
     "name": "stdout",
     "output_type": "stream",
     "text": [
      "['0^2:0\\n1^2:1\\n2^2:4\\n3^2:9\\n4^2:16\\n5^2:25\\n6^2:36\\n7^2:49\\n8^2:64\\n9^2:81\\n']\n",
      "1\n"
     ]
    }
   ],
   "source": [
    "with open('fichier.txt', 'r') as file:\n",
    "    x = []\n",
    "    x.append(file.read())\n",
    "    print(x)\n",
    "    print(len(x))"
   ]
  },
  {
   "cell_type": "markdown",
   "id": "a8ad1a9f",
   "metadata": {},
   "source": [
    "**CORRECTION**"
   ]
  },
  {
   "cell_type": "code",
   "execution_count": 54,
   "id": "ad0c7a33",
   "metadata": {},
   "outputs": [
    {
     "name": "stdout",
     "output_type": "stream",
     "text": [
      "['0^2:0\\n', '1^2:1\\n', '2^2:4\\n', '3^2:9\\n', '4^2:16\\n', '5^2:25\\n', '6^2:36\\n', '7^2:49\\n', '8^2:64\\n', '9^2:81\\n']\n",
      "10\n"
     ]
    }
   ],
   "source": [
    "with open('fichier.txt', 'r') as file:\n",
    "    x = file.readlines()\n",
    "    \n",
    "print(x)\n",
    "print(len(x))"
   ]
  },
  {
   "cell_type": "code",
   "execution_count": 50,
   "id": "bdcf7901",
   "metadata": {},
   "outputs": [
    {
     "data": {
      "text/plain": [
       "['0^2:0',\n",
       " '1^2:1',\n",
       " '2^2:4',\n",
       " '3^2:9',\n",
       " '4^2:16',\n",
       " '5^2:25',\n",
       " '6^2:36',\n",
       " '7^2:49',\n",
       " '8^2:64',\n",
       " '9^2:81']"
      ]
     },
     "execution_count": 50,
     "metadata": {},
     "output_type": "execute_result"
    }
   ],
   "source": [
    "with open('fichier.txt', 'r') as file:\n",
    "    x = file.read().splitlines()\n",
    "    \n",
    "x"
   ]
  },
  {
   "cell_type": "code",
   "execution_count": 51,
   "id": "6c06659f",
   "metadata": {},
   "outputs": [
    {
     "name": "stdout",
     "output_type": "stream",
     "text": [
      "10\n"
     ]
    }
   ],
   "source": [
    "print(len(x))"
   ]
  },
  {
   "cell_type": "code",
   "execution_count": 52,
   "id": "c8af3cf6",
   "metadata": {},
   "outputs": [
    {
     "data": {
      "text/plain": [
       "['Cynthia\\n', 'Lynn\\n', 'Suzie\\n', 'Astrid\\n']"
      ]
     },
     "execution_count": 52,
     "metadata": {},
     "output_type": "execute_result"
    }
   ],
   "source": [
    "x = [line for line in open('prenom.txt', 'r')]\n",
    "x"
   ]
  },
  {
   "cell_type": "code",
   "execution_count": 53,
   "id": "a87387e9",
   "metadata": {},
   "outputs": [
    {
     "data": {
      "text/plain": [
       "['Cynthia', 'Lynn', 'Suzie', 'Astrid']"
      ]
     },
     "execution_count": 53,
     "metadata": {},
     "output_type": "execute_result"
    }
   ],
   "source": [
    "x = [line.strip() for line in open('prenom.txt', 'r')]\n",
    "x"
   ]
  },
  {
   "cell_type": "code",
   "execution_count": null,
   "id": "17ca705b",
   "metadata": {},
   "outputs": [],
   "source": []
  },
  {
   "cell_type": "code",
   "execution_count": null,
   "id": "0941ce42",
   "metadata": {},
   "outputs": [],
   "source": []
  }
 ],
 "metadata": {
  "kernelspec": {
   "display_name": "Python 3 (ipykernel)",
   "language": "python",
   "name": "python3"
  },
  "language_info": {
   "codemirror_mode": {
    "name": "ipython",
    "version": 3
   },
   "file_extension": ".py",
   "mimetype": "text/x-python",
   "name": "python",
   "nbconvert_exporter": "python",
   "pygments_lexer": "ipython3",
   "version": "3.11.5"
  }
 },
 "nbformat": 4,
 "nbformat_minor": 5
}
