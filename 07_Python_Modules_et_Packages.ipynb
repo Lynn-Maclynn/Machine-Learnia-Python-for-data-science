{
 "cells": [
  {
   "cell_type": "markdown",
   "id": "c22cfea4",
   "metadata": {},
   "source": [
    "## MODULES"
   ]
  },
  {
   "cell_type": "markdown",
   "id": "c4432149",
   "metadata": {},
   "source": [
    "**MODULE 1 : math**"
   ]
  },
  {
   "cell_type": "code",
   "execution_count": 7,
   "id": "169478b1",
   "metadata": {},
   "outputs": [],
   "source": [
    "import math"
   ]
  },
  {
   "cell_type": "code",
   "execution_count": 8,
   "id": "ffa581f2",
   "metadata": {},
   "outputs": [
    {
     "data": {
      "text/plain": [
       "-1.0"
      ]
     },
     "execution_count": 8,
     "metadata": {},
     "output_type": "execute_result"
    }
   ],
   "source": [
    "math.cos(math.pi)"
   ]
  },
  {
   "cell_type": "code",
   "execution_count": 9,
   "id": "43a73586",
   "metadata": {},
   "outputs": [
    {
     "data": {
      "text/plain": [
       "148.4131591025766"
      ]
     },
     "execution_count": 9,
     "metadata": {},
     "output_type": "execute_result"
    }
   ],
   "source": [
    " math.exp(5)"
   ]
  },
  {
   "cell_type": "markdown",
   "id": "d4d3a026",
   "metadata": {},
   "source": [
    "**MODULE 2 : statistics**"
   ]
  },
  {
   "cell_type": "code",
   "execution_count": 14,
   "id": "75bb860b",
   "metadata": {},
   "outputs": [],
   "source": [
    "import statistics"
   ]
  },
  {
   "cell_type": "code",
   "execution_count": 15,
   "id": "aa6369f7",
   "metadata": {},
   "outputs": [
    {
     "data": {
      "text/plain": [
       "[100, 121, 144, 169, 196]"
      ]
     },
     "execution_count": 15,
     "metadata": {},
     "output_type": "execute_result"
    }
   ],
   "source": [
    "liste = [i**2 for i in range(10,15)]\n",
    "liste"
   ]
  },
  {
   "cell_type": "code",
   "execution_count": 16,
   "id": "89a59fe4",
   "metadata": {},
   "outputs": [
    {
     "data": {
      "text/plain": [
       "146"
      ]
     },
     "execution_count": 16,
     "metadata": {},
     "output_type": "execute_result"
    }
   ],
   "source": [
    "statistics.mean(liste)"
   ]
  },
  {
   "cell_type": "code",
   "execution_count": 20,
   "id": "dbe5e391",
   "metadata": {},
   "outputs": [
    {
     "data": {
      "text/plain": [
       "1443.5"
      ]
     },
     "execution_count": 20,
     "metadata": {},
     "output_type": "execute_result"
    }
   ],
   "source": [
    "statistics.variance(liste)"
   ]
  },
  {
   "cell_type": "code",
   "execution_count": 21,
   "id": "1bbe6e64",
   "metadata": {},
   "outputs": [
    {
     "data": {
      "text/plain": [
       "37.993420483025744"
      ]
     },
     "execution_count": 21,
     "metadata": {},
     "output_type": "execute_result"
    }
   ],
   "source": [
    "statistics.stdev(liste)"
   ]
  },
  {
   "cell_type": "markdown",
   "id": "fb48b4f9",
   "metadata": {},
   "source": [
    "**MODULE 3 : random**"
   ]
  },
  {
   "cell_type": "code",
   "execution_count": 22,
   "id": "6873f4d3",
   "metadata": {},
   "outputs": [],
   "source": [
    "import random"
   ]
  },
  {
   "cell_type": "code",
   "execution_count": 24,
   "id": "ad1962ba",
   "metadata": {},
   "outputs": [
    {
     "data": {
      "text/plain": [
       "100"
      ]
     },
     "execution_count": 24,
     "metadata": {},
     "output_type": "execute_result"
    }
   ],
   "source": [
    "random.choice(liste)"
   ]
  },
  {
   "cell_type": "code",
   "execution_count": 27,
   "id": "8a2e3a14",
   "metadata": {},
   "outputs": [
    {
     "data": {
      "text/plain": [
       "0.7437896901125757"
      ]
     },
     "execution_count": 27,
     "metadata": {},
     "output_type": "execute_result"
    }
   ],
   "source": [
    "random.random()"
   ]
  },
  {
   "cell_type": "code",
   "execution_count": 28,
   "id": "f46a3b2a",
   "metadata": {},
   "outputs": [],
   "source": [
    "random.seed(0)"
   ]
  },
  {
   "cell_type": "code",
   "execution_count": 31,
   "id": "73d8ba7a",
   "metadata": {},
   "outputs": [
    {
     "data": {
      "text/plain": [
       "100"
      ]
     },
     "execution_count": 31,
     "metadata": {},
     "output_type": "execute_result"
    }
   ],
   "source": [
    "random.choice(liste)"
   ]
  },
  {
   "cell_type": "code",
   "execution_count": 37,
   "id": "5c2ff595",
   "metadata": {},
   "outputs": [
    {
     "data": {
      "text/plain": [
       "0.8444218515250481"
      ]
     },
     "execution_count": 37,
     "metadata": {},
     "output_type": "execute_result"
    }
   ],
   "source": [
    "random.seed(0)\n",
    "random.random()"
   ]
  },
  {
   "cell_type": "code",
   "execution_count": 42,
   "id": "df52d0f7",
   "metadata": {},
   "outputs": [
    {
     "data": {
      "text/plain": [
       "66"
      ]
     },
     "execution_count": 42,
     "metadata": {},
     "output_type": "execute_result"
    }
   ],
   "source": [
    "random.randint(1,100)"
   ]
  },
  {
   "cell_type": "code",
   "execution_count": 43,
   "id": "3ce6eb0f",
   "metadata": {},
   "outputs": [
    {
     "data": {
      "text/plain": [
       "[31, 25, 19, 30, 11, 18, 28, 6, 16, 4]"
      ]
     },
     "execution_count": 43,
     "metadata": {},
     "output_type": "execute_result"
    }
   ],
   "source": [
    "random.sample(range(35),10)"
   ]
  },
  {
   "cell_type": "code",
   "execution_count": 44,
   "id": "e88d0c9f",
   "metadata": {},
   "outputs": [
    {
     "data": {
      "text/plain": [
       "4"
      ]
     },
     "execution_count": 44,
     "metadata": {},
     "output_type": "execute_result"
    }
   ],
   "source": [
    "random.randrange(10)"
   ]
  },
  {
   "cell_type": "code",
   "execution_count": 49,
   "id": "2b7e5854",
   "metadata": {},
   "outputs": [
    {
     "data": {
      "text/plain": [
       "[7, 8]"
      ]
     },
     "execution_count": 49,
     "metadata": {},
     "output_type": "execute_result"
    }
   ],
   "source": [
    "random.sample(range(10),random.randrange(5))"
   ]
  },
  {
   "cell_type": "markdown",
   "id": "ce855e19",
   "metadata": {},
   "source": [
    "**MODULE 4 : os**"
   ]
  },
  {
   "cell_type": "code",
   "execution_count": 2,
   "id": "d9ce8e16",
   "metadata": {},
   "outputs": [
    {
     "data": {
      "text/plain": [
       "'C:\\\\Users\\\\SOP TELECOM\\\\Python learning\\\\Machine Learnia - Python for data science'"
      ]
     },
     "execution_count": 2,
     "metadata": {},
     "output_type": "execute_result"
    }
   ],
   "source": [
    "import os\n",
    "os.getcwd()"
   ]
  },
  {
   "cell_type": "markdown",
   "id": "60299d1c",
   "metadata": {},
   "source": [
    "**MODULE : glob**"
   ]
  },
  {
   "cell_type": "code",
   "execution_count": 13,
   "id": "aa3a234b",
   "metadata": {},
   "outputs": [
    {
     "name": "stdout",
     "output_type": "stream",
     "text": [
      "['01_Python_Variables et fonctions.ipynb', '02_Python_If_else_while_for.ipynb', '03_Python_Listes_Tuples.ipynb', '04_Python_Dictionnaires.ipynb', '05_Python_List_Dict_comprehension.ipynb', '06_Python_Built_in_function.ipynb', '07_Python_Modules et Packages.ipynb', '08_Python_Programmation_orientee_objet.ipynb', 'fichier.txt', 'prenom.txt', 'villes.txt']\n"
     ]
    }
   ],
   "source": [
    "from glob import glob\n",
    "print(glob(\"*\"))"
   ]
  },
  {
   "cell_type": "code",
   "execution_count": 9,
   "id": "955c7fcc",
   "metadata": {},
   "outputs": [
    {
     "name": "stdout",
     "output_type": "stream",
     "text": [
      "['fichier.txt', 'prenom.txt', 'villes.txt']\n"
     ]
    }
   ],
   "source": [
    "print(glob('*.txt'))"
   ]
  },
  {
   "cell_type": "code",
   "execution_count": 16,
   "id": "6b3edc89",
   "metadata": {
    "scrolled": true
   },
   "outputs": [
    {
     "name": "stdout",
     "output_type": "stream",
     "text": [
      "0^2:0\n",
      "1^2:1\n",
      "2^2:4\n",
      "3^2:9\n",
      "4^2:16\n",
      "5^2:25\n",
      "6^2:36\n",
      "7^2:49\n",
      "8^2:64\n",
      "9^2:81\n",
      "\n",
      "Cynthia\n",
      "Lynn\n",
      "Suzie\n",
      "Astrid\n",
      "\n",
      "Dschang\n",
      "Bafoussam\n",
      "Yaounde\n",
      "Douala\n",
      "\n"
     ]
    }
   ],
   "source": [
    "import glob\n",
    "filenames = glob.glob('*.txt')\n",
    "\n",
    "for file in filenames:\n",
    "    with open(file, 'r') as f:\n",
    "        print(f.read())"
   ]
  },
  {
   "cell_type": "markdown",
   "id": "b6752137",
   "metadata": {},
   "source": [
    "## EXERCICE\n",
    "\n",
    "Utiliser la technique précédente pour mettre le resultat de chaque fichier lus dans une variable precise.\n",
    "\n",
    "**PS** : utliser les dictionnaires"
   ]
  },
  {
   "cell_type": "code",
   "execution_count": 17,
   "id": "3b1a160d",
   "metadata": {},
   "outputs": [
    {
     "ename": "NameError",
     "evalue": "name 'x' is not defined",
     "output_type": "error",
     "traceback": [
      "\u001b[1;31m---------------------------------------------------------------------------\u001b[0m",
      "\u001b[1;31mNameError\u001b[0m                                 Traceback (most recent call last)",
      "Cell \u001b[1;32mIn[17], line 6\u001b[0m\n\u001b[0;32m      4\u001b[0m \u001b[38;5;28;01mfor\u001b[39;00m file \u001b[38;5;129;01min\u001b[39;00m filenames:\n\u001b[0;32m      5\u001b[0m     \u001b[38;5;28;01mwith\u001b[39;00m \u001b[38;5;28mopen\u001b[39m(file, \u001b[38;5;124m'\u001b[39m\u001b[38;5;124mr\u001b[39m\u001b[38;5;124m'\u001b[39m) \u001b[38;5;28;01mas\u001b[39;00m f:\n\u001b[1;32m----> 6\u001b[0m         dico \u001b[38;5;241m=\u001b[39m {\u001b[38;5;28mstr\u001b[39m(x) : f\u001b[38;5;241m.\u001b[39mread()}\n\u001b[0;32m      8\u001b[0m \u001b[38;5;28mprint\u001b[39m(dico)\n",
      "\u001b[1;31mNameError\u001b[0m: name 'x' is not defined"
     ]
    }
   ],
   "source": [
    "import glob\n",
    "filenames = glob.glob('*.txt')\n",
    "\n",
    "for file in filenames:\n",
    "    with open(file, 'r') as f:\n",
    "        dico = {str(x) : f.read()}\n",
    "        \n",
    "print(dico)"
   ]
  },
  {
   "cell_type": "markdown",
   "id": "f7f8eeff",
   "metadata": {},
   "source": [
    "**CORRECTION**"
   ]
  },
  {
   "cell_type": "code",
   "execution_count": 18,
   "id": "63f1fa01",
   "metadata": {},
   "outputs": [
    {
     "name": "stdout",
     "output_type": "stream",
     "text": [
      "{'fichier.txt': ['0^2:0', '1^2:1', '2^2:4', '3^2:9', '4^2:16', '5^2:25', '6^2:36', '7^2:49', '8^2:64', '9^2:81'], 'prenom.txt': ['Cynthia', 'Lynn', 'Suzie', 'Astrid'], 'villes.txt': ['Dschang', 'Bafoussam', 'Yaounde', 'Douala']}\n"
     ]
    }
   ],
   "source": [
    "import glob\n",
    "filenames = glob.glob('*.txt')\n",
    "d = {}\n",
    "for file in filenames:\n",
    "    with open(file, 'r') as f:\n",
    "        d[file] = f.read().splitlines()\n",
    "        \n",
    "print(d)"
   ]
  },
  {
   "cell_type": "code",
   "execution_count": null,
   "id": "ff6c5fb7",
   "metadata": {},
   "outputs": [],
   "source": []
  }
 ],
 "metadata": {
  "kernelspec": {
   "display_name": "Python 3 (ipykernel)",
   "language": "python",
   "name": "python3"
  },
  "language_info": {
   "codemirror_mode": {
    "name": "ipython",
    "version": 3
   },
   "file_extension": ".py",
   "mimetype": "text/x-python",
   "name": "python",
   "nbconvert_exporter": "python",
   "pygments_lexer": "ipython3",
   "version": "3.11.5"
  }
 },
 "nbformat": 4,
 "nbformat_minor": 5
}
